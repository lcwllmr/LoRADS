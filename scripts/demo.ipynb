{
 "cells": [
  {
   "cell_type": "code",
   "execution_count": 1,
   "metadata": {},
   "outputs": [],
   "source": [
    "import os"
   ]
  },
  {
   "cell_type": "code",
   "execution_count": 2,
   "metadata": {},
   "outputs": [
    {
     "name": "stderr",
     "output_type": "stream",
     "text": [
      "  Activating project at `~/fork/lorads_ijoc_submit/zhenweilin_fork/2024.0701/data/gen_data`\n",
      "   Resolving package versions...\n",
      "  No Changes to `~/fork/lorads_ijoc_submit/zhenweilin_fork/2024.0701/data/gen_data/Project.toml`\n",
      "  No Changes to `~/fork/lorads_ijoc_submit/zhenweilin_fork/2024.0701/data/gen_data/Manifest.toml`\n",
      "   Resolving package versions...\n",
      "  No Changes to `~/fork/lorads_ijoc_submit/zhenweilin_fork/2024.0701/data/gen_data/Project.toml`\n",
      "  No Changes to `~/fork/lorads_ijoc_submit/zhenweilin_fork/2024.0701/data/gen_data/Manifest.toml`\n",
      "   Resolving package versions...\n",
      "  No Changes to `~/fork/lorads_ijoc_submit/zhenweilin_fork/2024.0701/data/gen_data/Project.toml`\n",
      "  No Changes to `~/fork/lorads_ijoc_submit/zhenweilin_fork/2024.0701/data/gen_data/Manifest.toml`\n",
      "   Resolving package versions...\n",
      "  No Changes to `~/fork/lorads_ijoc_submit/zhenweilin_fork/2024.0701/data/gen_data/Project.toml`\n",
      "  No Changes to `~/fork/lorads_ijoc_submit/zhenweilin_fork/2024.0701/data/gen_data/Manifest.toml`\n",
      "   Resolving package versions...\n",
      "  No Changes to `~/fork/lorads_ijoc_submit/zhenweilin_fork/2024.0701/data/gen_data/Project.toml`\n",
      "  No Changes to `~/fork/lorads_ijoc_submit/zhenweilin_fork/2024.0701/data/gen_data/Manifest.toml`\n",
      "   Resolving package versions...\n",
      "  No Changes to `~/fork/lorads_ijoc_submit/zhenweilin_fork/2024.0701/data/gen_data/Project.toml`\n",
      "  No Changes to `~/fork/lorads_ijoc_submit/zhenweilin_fork/2024.0701/data/gen_data/Manifest.toml`\n",
      "  Activating project at `~/fork/lorads_ijoc_submit/zhenweilin_fork/2024.0701/data/gen_data`\n"
     ]
    },
    {
     "name": "stdout",
     "output_type": "stream",
     "text": [
      "  0.000000 seconds\n",
      "  0.012704 seconds (6.47 k allocations: 9.929 MiB, 66.08% compilation time)\n",
      "Writing into Matrix_Completion_SDP/MC_500.dat-s ...\n",
      "\n",
      "Transposing A to match b\n",
      "===== Problem statistics =====\n",
      "==> Number of constraints: 59937\n",
      "==> Number of SDP blocks: 1\n",
      "==> Number of LP vars: 0\n",
      "\n",
      "Done!\n",
      "\n",
      "  0.686435 seconds (4.85 M allocations: 297.906 MiB, 14.88% gc time, 79.84% compilation time)\n",
      "  0.000000 seconds\n",
      "  0.012219 seconds (116 allocations: 27.295 MiB)\n",
      "Writing into Matrix_Completion_SDP/MC_1000.dat-s ...\n",
      "\n",
      "Transposing A to match b\n",
      "===== Problem statistics =====\n",
      "==> Number of constraints: 199276\n",
      "==> Number of SDP blocks: 1\n",
      "==> Number of LP vars: 0\n",
      "\n",
      "Done!\n",
      "\n",
      "  0.285671 seconds (12.36 M allocations: 601.170 MiB, 1.77% gc time)\n"
     ]
    },
    {
     "name": "stderr",
     "output_type": "stream",
     "text": [
      "  Activating project at `~/fork/lorads_ijoc_submit/zhenweilin_fork/2024.0701/data/gen_data`\n"
     ]
    },
    {
     "data": {
      "text/plain": [
       "0"
      ]
     },
     "execution_count": 2,
     "metadata": {},
     "output_type": "execute_result"
    }
   ],
   "source": [
    "## generate the synthetic data\n",
    "data_dir = \"../data\"\n",
    "os.system(f\"cd {data_dir} && julia env.jl && julia gen_MatrixCompletion.jl && julia gen_MaxCut.jl\")"
   ]
  },
  {
   "cell_type": "code",
   "execution_count": 3,
   "metadata": {},
   "outputs": [
    {
     "name": "stdout",
     "output_type": "stream",
     "text": [
      "you can find the result in the file: ../data/Max_cut_SDP/results/G13.dat-s.txt\n",
      "you can find the result in the file: ../data/Max_cut_SDP/results/G11.dat-s.txt\n",
      "you can find the result in the file: ../data/Max_cut_SDP/results/G12.dat-s.txt\n",
      "you can find the result in the file: ../data/Max_cut_matrix_files/results/delaunay_n14.dat-s.txt\n",
      "you can find the result in the file: ../data/Max_cut_matrix_files/results/amazon0505.dat-s.txt\n",
      "you can find the result in the file: ../data/Matrix_Completion_SDP/results/MC_500.dat-s.txt\n",
      "you can find the result in the file: ../data/Matrix_Completion_SDP/results/MC_1000.dat-s.txt\n",
      "you can find the result in the file: ../data/General_SDP/results/cphil12.dat-s.txt\n",
      "you can find the result in the file: ../data/General_SDP/results/ice_2.0.dat-s.txt\n",
      "you can find the result in the file: ../data/General_SDP/results/p_auss2_3.0.dat-s.txt\n",
      "you can find the result in the file: ../data/General_SDP/results/theta102.dat-s.txt\n",
      "you can find the result in the file: ../data/General_SDP/results/checker_1.5.dat-s.txt\n",
      "you can find the result in the file: ../data/General_SDP/results/shmup4.dat-s.txt\n"
     ]
    }
   ],
   "source": [
    "# ===== Max Cut SDP Problems =====\n",
    "data_dir = '../data/Max_cut_SDP'\n",
    "exe_dir = '../src/build/LoRADS_v_2_0_1-alpha'\n",
    "params = \"--reoptLevel 0 --timesLogRank 2 --heuristicFactor 10 --phase1Tol 1e-2 --timeSecLimit 10000\"\n",
    "os.makedirs(os.path.join(data_dir, 'results'), exist_ok=True)\n",
    "for file in os.listdir(data_dir):\n",
    "    if file.endswith('.dat-s'):\n",
    "        print(f\"you can find the result in the file: {data_dir}/results/{file}.txt\")\n",
    "        os.system(f'{exe_dir} {data_dir}/{file} {params} > {data_dir}/results/{file}.txt')\n",
    "\n",
    "\n",
    "# ===== Max Cut Matrix Files =====\n",
    "data_dir = '../data/Max_cut_matrix_files'\n",
    "exe_dir = '../src/build/LoRADS_v_2_0_1-alpha'\n",
    "params = \"--reoptLevel 0 --timesLogRank 0.25 --heuristicFactor 100 --phase1Tol 1e+1 --timeSecLimit 10000\"\n",
    "os.makedirs(os.path.join(data_dir, 'results'), exist_ok=True)\n",
    "for file in os.listdir(data_dir):\n",
    "    if file.endswith('.dat-s'):\n",
    "        print(f\"you can find the result in the file: {data_dir}/results/{file}.txt\")\n",
    "        os.system(f'{exe_dir} {data_dir}/{file} {params} > {data_dir}/results/{file}.txt')\n",
    "\n",
    "\n",
    "\n",
    "# ===== Matrix Completion SDP Problems =====\n",
    "data_dir = '../data/Matrix_Completion_SDP'\n",
    "exe_dir = '../src/build/LoRADS_v_2_0_1-alpha'\n",
    "params = \"--reoptLevel 0 --timesLogRank 2 --heuristicFactor 10 --timeSecLimit 10000\"\n",
    "os.makedirs(os.path.join(data_dir, 'results'), exist_ok=True)\n",
    "for file in os.listdir(data_dir):\n",
    "    if file.endswith('.dat-s'):\n",
    "        print(f\"you can find the result in the file: {data_dir}/results/{file}.txt\")\n",
    "        os.system(f'{exe_dir} {data_dir}/{file} {params} > {data_dir}/results/{file}.txt')\n",
    "\n",
    "\n",
    "# ===== General SDP Problems =====\n",
    "data_dir = '../data/General_SDP'\n",
    "exe_dir = '../src/build/LoRADS_v_2_0_1-alpha'\n",
    "params = \"--reoptLevel 2 --timeSecLimit 10000\"\n",
    "# mkdir in data_dir\n",
    "os.makedirs(os.path.join(data_dir, 'results'), exist_ok=True)\n",
    "for file in os.listdir(data_dir):\n",
    "    if file.endswith('.dat-s'):\n",
    "        print(f\"you can find the result in the file: {data_dir}/results/{file}.txt\")\n",
    "        os.system(f'{exe_dir} {data_dir}/{file} {params} > {data_dir}/results/{file}.txt')"
   ]
  },
  {
   "cell_type": "code",
   "execution_count": null,
   "metadata": {},
   "outputs": [],
   "source": []
  }
 ],
 "metadata": {
  "kernelspec": {
   "display_name": "py310",
   "language": "python",
   "name": "python3"
  },
  "language_info": {
   "codemirror_mode": {
    "name": "ipython",
    "version": 3
   },
   "file_extension": ".py",
   "mimetype": "text/x-python",
   "name": "python",
   "nbconvert_exporter": "python",
   "pygments_lexer": "ipython3",
   "version": "3.10.15"
  }
 },
 "nbformat": 4,
 "nbformat_minor": 2
}
