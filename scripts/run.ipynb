{
 "cells": [
  {
   "cell_type": "code",
   "execution_count": null,
   "metadata": {},
   "outputs": [],
   "source": [
    "import os"
   ]
  },
  {
   "cell_type": "code",
   "execution_count": null,
   "metadata": {},
   "outputs": [],
   "source": [
    "## including all the Gset (G1.dat-s - G67.dat-s) problem files\n",
    "data_dir = '../data/Max_cut_SDP/Gset' # create a sperate data folder for this run, make sure all the Gset data files mentioned above are in the data_dir\n",
    "exe_dir = '../src/build/LoRADS_v_2_0_1-alpha'\n",
    "params = \"--reoptLevel 0 --heuristicFactor 10 --phase1Tol 1e-2 --timeSecLimit 10000\"\n",
    "\n",
    "# mkdir in data_dir\n",
    "os.makedirs(os.path.join(data_dir, 'results'), exist_ok=True)\n",
    "for file in os.listdir(data_dir):\n",
    "    if file.endswith('.dat-s'):\n",
    "        print(file)\n",
    "        os.system(f'{exe_dir} {data_dir}/{file} {params} > {data_dir}/results/{file}.txt')"
   ]
  },
  {
   "cell_type": "code",
   "execution_count": null,
   "metadata": {},
   "outputs": [],
   "source": [
    "## including the following files\n",
    "#  'delaunay_n16.dat-s',\n",
    "#  'p2p-Gnutella04.dat-s',\n",
    "#  'delaunay_n14.dat-s',\n",
    "#  'vsp_bump2_e18_aa01_model1_crew1.dat-s',\n",
    "#  'rgg_n_2_19_s0.dat-s',\n",
    "#  'cit-HepPh.dat-s',\n",
    "#  'cs4.dat-s',\n",
    "#  'delaunay_n15.dat-s',\n",
    "#  'vsp_sctap1-2b_and_seymourl.dat-s',\n",
    "#  'rgg_n_2_20_s0.dat-s',\n",
    "#  'cit-HepTh.dat-s',\n",
    "#  'amazon0505.dat-s',\n",
    "#  'p2p-Gnutella30.dat-s',\n",
    "#  'vsp_befref_fxm_2_4_air02.dat-s',\n",
    "#  'delaunay_n20.dat-s',\n",
    "#  'fe_tooth.dat-s',\n",
    "#  'delaunay_n19.dat-s',\n",
    "#  'amazon0302.dat-s',\n",
    "#  'fe_ocean.dat-s',\n",
    "#  '598a.dat-s'\n",
    "data_dir = '../data/Max_cut_SDP/large' # create a sperate data folder for this run, make sure the data files mentioned above are in the data_dir\n",
    "exe_dir = '../src/build/LoRADS_v_2_0_1-alpha'\n",
    "params = \"--reoptLevel 0 --timesLogRank 0.25 --heuristicFactor 100 --phase1Tol 1e+1 --timeSecLimit 10000\"\n",
    "\n",
    "# mkdir in data_dir\n",
    "os.makedirs(os.path.join(data_dir, 'results'), exist_ok=True)\n",
    "for file in os.listdir(data_dir):\n",
    "    if file.endswith('.dat-s'):\n",
    "        print(file)\n",
    "        os.system(f'{exe_dir} {data_dir}/{file} {params} > {data_dir}/results/{file}.txt')"
   ]
  },
  {
   "cell_type": "code",
   "execution_count": null,
   "metadata": {},
   "outputs": [],
   "source": [
    "# including the following files:\n",
    "# 'MC_1000.dat-s', 'MC_2000.dat-s', 'MC_3000.dat-s', \n",
    "# 'MC_4000.dat-s', 'MC_5000.dat-s', 'MC_6000.dat-s', \n",
    "# 'MC_8000.dat-s'\n",
    "data_dir = '../data/Matrix_Completion_SDP/small' # make sure the data files mentioned above are in the data_dir\n",
    "exe_dir = '../src/build/LoRADS_v_2_0_1-alpha'\n",
    "params = \"--reoptLevel 0 --heuristicFactor 10 --timeSecLimit 10000\"\n",
    "\n",
    "# mkdir in data_dir\n",
    "os.makedirs(os.path.join(data_dir, 'results'), exist_ok=True)\n",
    "for file in os.listdir(data_dir):\n",
    "    if file.endswith('.dat-s'):\n",
    "        print(file)\n",
    "        os.system(f'{exe_dir} {data_dir}/{file} {params} > {data_dir}/results/{file}.txt')"
   ]
  },
  {
   "cell_type": "code",
   "execution_count": null,
   "metadata": {},
   "outputs": [],
   "source": [
    "# including the following files:\n",
    "# 'MC_10000.dat-s', 'MC_12000.dat-s', 'MC_14000.dat-s', \n",
    "# 'MC_16000.dat-s', 'MC_18000.dat-s', 'MC_20000.dat-s', \n",
    "# 'MC_40000.dat-s', 'MC_60000.dat-s', 'MC_80000.dat-s', \n",
    "# 'MC_100000.dat-s', 'MC_120000.dat-s', 'MC_140000.dat-s', \n",
    "# 'MC_160000.dat-s', 'MC_180000.dat-s'\n",
    "data_dir = '../data/Matrix_Completion_SDP/large' # make sure the data files mentioned above are in the data_dir\n",
    "exe_dir = '../src/build/LoRADS_v_2_0_1-alpha'\n",
    "params = \"--reoptLevel 0 --timesLogRank 1 --heuristicFactor 10 --timeSecLimit 10000\"\n",
    "\n",
    "# mkdir in data_dir\n",
    "os.makedirs(os.path.join(data_dir, 'results'), exist_ok=True)\n",
    "for file in os.listdir(data_dir):\n",
    "    if file.endswith('.dat-s'):\n",
    "        print(file)\n",
    "        os.system(f'{exe_dir} {data_dir}/{file} {params} > {data_dir}/results/{file}.txt')"
   ]
  },
  {
   "cell_type": "code",
   "execution_count": null,
   "metadata": {},
   "outputs": [],
   "source": [
    "# hans dataset\n",
    "# CH2_1A1_STO-6GN8r14g1T2.dat-s\n",
    "# neosfbr25.dat-s\n",
    "# G55mc.dat-s\n",
    "# 1zc.1024.dat-s\n",
    "# NH2-.1A1.STO6G.r14.dat-s\n",
    "# H3O+_1-A1_STO-6GN10r16g1T2_5.dat-s\n",
    "# G60_mb.dat-s\n",
    "# hand.dat-s\n",
    "# NH4+.1A1.STO6GN.r18.dat-s\n",
    "# theta12.dat-s\n",
    "# G48_mb.dat-s\n",
    "# neosfbr30e8.dat-s\n",
    "# Bex2_1_5.dat-s\n",
    "# cphil12.dat-s\n",
    "# ice_2.0.dat-s\n",
    "# p_auss2_3.0.dat-s\n",
    "# theta102.dat-s\n",
    "# BH2_2A1_STO-6GN7r14g1T2.dat-s\n",
    "# cancer_100.dat-s\n",
    "# AlH_1-Sigma+_STO-6GN14r20g1T2_5.dat-s\n",
    "# G59mc.dat-s\n",
    "# rendl1_2000_1e-6.dat-s\n",
    "# G40_mb.dat-s\n",
    "# theta123.dat-s\n",
    "# checker_1.5.dat-s\n",
    "# shmup4.dat-s\n",
    "# G48mc.dat-s\n",
    "# NH3_1-A1_STO-6GN10r16g1T2_5.dat-s\n",
    "data_dir = './data/General' # make sure the data files mentioned above are in the data_dir\n",
    "exe_dir = './build/LoRADS_v_2_0_1-alpha'\n",
    "params = \"--reoptLevel 2 --timeSecLimit 10000\"\n",
    "## read data\n",
    "print(os.listdir(data_dir))\n",
    "# mkdir in data_dir\n",
    "os.makedirs(os.path.join(data_dir, 'results'), exist_ok=True)\n",
    "for file in os.listdir(data_dir):\n",
    "    if file.endswith('.dat-s'):\n",
    "        print(file)\n",
    "        os.system(f'{exe_dir} {data_dir}/{file} {params} > {data_dir}/results/{file}.txt')"
   ]
  },
  {
   "cell_type": "code",
   "execution_count": null,
   "metadata": {},
   "outputs": [],
   "source": []
  }
 ],
 "metadata": {
  "kernelspec": {
   "display_name": "py310",
   "language": "python",
   "name": "python3"
  },
  "language_info": {
   "codemirror_mode": {
    "name": "ipython",
    "version": 3
   },
   "file_extension": ".py",
   "mimetype": "text/x-python",
   "name": "python",
   "nbconvert_exporter": "python",
   "pygments_lexer": "ipython3",
   "version": "3.10.15"
  }
 },
 "nbformat": 4,
 "nbformat_minor": 2
}
